{
 "cells": [
  {
   "cell_type": "markdown",
   "source": [
    "# MODEL TRAINING\n",
    "#### 11.1 Importing Data and Packages"
   ],
   "metadata": {
    "collapsed": false
   }
  },
  {
   "cell_type": "code",
   "execution_count": 7,
   "outputs": [],
   "source": [
    "# Basic Import\n",
    "import numpy as np\n",
    "import pandas as pd\n",
    "import matplotlib.pyplot as plt\n",
    "import seaborn as sns\n",
    "# Modelling\n",
    "from sklearn.metrics import mean_squared_error, r2_score\n",
    "from sklearn.neighbors import KNeighborsRegressor\n",
    "from sklearn.svm import SVR\n",
    "from sklearn.metrics import r2_score, mean_absolute_error, mean_squared_error\n",
    "from sklearn.ensemble import RandomForestClassifier, GradientBoostingClassifier\n",
    "from sklearn.feature_extraction.text import CountVectorizer, TfidfTransformer\n",
    "from sklearn.metrics import accuracy_score, classification_report\n",
    "from sklearn.feature_extraction.text import TfidfVectorizer\n",
    "from sklearn.model_selection import train_test_split\n",
    "from sklearn.linear_model import LogisticRegression\n",
    "from sklearn.neighbors import KNeighborsClassifier\n",
    "from sklearn.model_selection import GridSearchCV\n",
    "from sklearn.naive_bayes import MultinomialNB\n",
    "from sklearn.metrics import confusion_matrix\n",
    "from imblearn.over_sampling import SMOTE\n",
    "from sklearn.pipeline import Pipeline\n",
    "from sklearn.svm import LinearSVC\n",
    "from sklearn.svm import SVC\n",
    "import warnings"
   ],
   "metadata": {
    "collapsed": false
   }
  },
  {
   "cell_type": "code",
   "execution_count": 8,
   "outputs": [],
   "source": [
    "df = pd.read_csv('cleaned_twitter_data.csv')"
   ],
   "metadata": {
    "collapsed": false
   }
  },
  {
   "cell_type": "code",
   "execution_count": 9,
   "outputs": [
    {
     "data": {
      "text/plain": "   Unnamed: 0              user_id      tweet_id  \\\n0           0             20599776           NaN   \n1           3   999100031239118853  1.571649e+18   \n2           4           2300716447  1.571649e+18   \n3           5           1886086740  1.571649e+18   \n4           6  1006723260384309249  1.571649e+18   \n\n                                          Tweet_Text     label  \n0  understand biology science many fear understan...   science  \n1  later weakly reactive bcells undergo process c...  medicine  \n2  capitalism doesnt equate eugenics eugenics key...   science  \n3  syphilis tipsfornewdocs meded medtwitter medic...  medicine  \n4  twitter thread weaving story racism science go...   science  ",
      "text/html": "<div>\n<style scoped>\n    .dataframe tbody tr th:only-of-type {\n        vertical-align: middle;\n    }\n\n    .dataframe tbody tr th {\n        vertical-align: top;\n    }\n\n    .dataframe thead th {\n        text-align: right;\n    }\n</style>\n<table border=\"1\" class=\"dataframe\">\n  <thead>\n    <tr style=\"text-align: right;\">\n      <th></th>\n      <th>Unnamed: 0</th>\n      <th>user_id</th>\n      <th>tweet_id</th>\n      <th>Tweet_Text</th>\n      <th>label</th>\n    </tr>\n  </thead>\n  <tbody>\n    <tr>\n      <th>0</th>\n      <td>0</td>\n      <td>20599776</td>\n      <td>NaN</td>\n      <td>understand biology science many fear understan...</td>\n      <td>science</td>\n    </tr>\n    <tr>\n      <th>1</th>\n      <td>3</td>\n      <td>999100031239118853</td>\n      <td>1.571649e+18</td>\n      <td>later weakly reactive bcells undergo process c...</td>\n      <td>medicine</td>\n    </tr>\n    <tr>\n      <th>2</th>\n      <td>4</td>\n      <td>2300716447</td>\n      <td>1.571649e+18</td>\n      <td>capitalism doesnt equate eugenics eugenics key...</td>\n      <td>science</td>\n    </tr>\n    <tr>\n      <th>3</th>\n      <td>5</td>\n      <td>1886086740</td>\n      <td>1.571649e+18</td>\n      <td>syphilis tipsfornewdocs meded medtwitter medic...</td>\n      <td>medicine</td>\n    </tr>\n    <tr>\n      <th>4</th>\n      <td>6</td>\n      <td>1006723260384309249</td>\n      <td>1.571649e+18</td>\n      <td>twitter thread weaving story racism science go...</td>\n      <td>science</td>\n    </tr>\n  </tbody>\n</table>\n</div>"
     },
     "execution_count": 9,
     "metadata": {},
     "output_type": "execute_result"
    }
   ],
   "source": [
    "df.head()"
   ],
   "metadata": {
    "collapsed": false
   }
  },
  {
   "cell_type": "code",
   "execution_count": 10,
   "outputs": [
    {
     "data": {
      "text/plain": "Unnamed: 0     0\nuser_id        0\ntweet_id       1\nTweet_Text    21\nlabel          0\ndtype: int64"
     },
     "execution_count": 10,
     "metadata": {},
     "output_type": "execute_result"
    }
   ],
   "source": [
    "df.isna().sum()"
   ],
   "metadata": {
    "collapsed": false
   }
  },
  {
   "cell_type": "code",
   "execution_count": 11,
   "outputs": [],
   "source": [
    "df.dropna(axis=1, inplace = True)"
   ],
   "metadata": {
    "collapsed": false
   }
  },
  {
   "cell_type": "code",
   "execution_count": 12,
   "outputs": [
    {
     "data": {
      "text/plain": "Unnamed: 0    0\nuser_id       0\nlabel         0\ndtype: int64"
     },
     "execution_count": 12,
     "metadata": {},
     "output_type": "execute_result"
    }
   ],
   "source": [
    "df.isna().sum()"
   ],
   "metadata": {
    "collapsed": false
   }
  },
  {
   "cell_type": "code",
   "execution_count": null,
   "outputs": [],
   "source": [],
   "metadata": {
    "collapsed": false
   }
  }
 ],
 "metadata": {
  "kernelspec": {
   "display_name": "Python 3",
   "language": "python",
   "name": "python3"
  },
  "language_info": {
   "codemirror_mode": {
    "name": "ipython",
    "version": 2
   },
   "file_extension": ".py",
   "mimetype": "text/x-python",
   "name": "python",
   "nbconvert_exporter": "python",
   "pygments_lexer": "ipython2",
   "version": "2.7.6"
  }
 },
 "nbformat": 4,
 "nbformat_minor": 0
}
